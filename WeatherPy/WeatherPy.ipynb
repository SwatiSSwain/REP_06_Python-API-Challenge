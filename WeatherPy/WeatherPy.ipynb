{
 "cells": [
  {
   "cell_type": "markdown",
   "metadata": {},
   "source": [
    "# WeatherPy\n",
    "----\n",
    "\n",
    "#### Note\n",
    "* Instructions have been included for each segment. You do not have to follow them exactly, but they are included to help you think through the steps."
   ]
  },
  {
   "cell_type": "markdown",
   "metadata": {},
   "source": [
    "Summary of observable trends in Data:\n",
    "\n",
    "1. Latitude vs Max Temperature: \n",
    "\n",
    "Northern Hemisphere: The plot has absolute r value >= 0.7, which suggests a very strong co-relation between latitude (Northern Hemisphere) and max temp. And since the slope is negative, we can conclude that with increase in latitude in Northern Hemisphere the temperature decreases.\n",
    "\n",
    "Southern Hemisphere: The plot has absolute r value in the range of .5 to .7, which suggests a moderate co-relation between latitude and max temp. The temperature variance is between 60 to 100 F for latitudes ranges -60 to 0. The further we travel in the Southern hemisphere, the tempature might decrease. \n",
    "\n",
    "2. Latitude vs Humidity & Latitude vs Cloudiness: The plots for these don't appear to have any trend for these data points; they're just all over the place. There is no apparent correlation between the Latitude and the dependent variables.\n",
    "\n",
    "3. Latitude vs Wind Speed: In the above plot between Latitude and Wine Speed, the wind speed seems to be within a certain range for most of the cities.  Hence, except for a few outliers, the plot suggests that the wind speed is within a range of 0 - 20 mph for most of the cities, for any range of latitudes. In conclusion, the wind speed constantly remains within the range and is not impacted by change in Latitude.\n",
    "\n",
    "Note: All exact r and p values listed out in various obervations throughout the notebook are specific to the 631 cities in this run. However, the notebook was run multiple time and ranges for r values (whereever mentioned) are taken from these runs."
   ]
  },
  {
   "cell_type": "code",
   "execution_count": 1,
   "metadata": {
    "scrolled": true
   },
   "outputs": [],
   "source": [
    "# Dependencies and Setup\n",
    "import matplotlib.pyplot as plt\n",
    "import pandas as pd\n",
    "import numpy as np\n",
    "import requests\n",
    "import time\n",
    "from scipy.stats import linregress\n",
    "import os\n",
    "\n",
    "# Import API key\n",
    "from api_keys import weather_api_key\n",
    "\n",
    "# Incorporated citipy to determine city based on latitude and longitude\n",
    "from citipy import citipy\n",
    "\n",
    "# Output File (CSV)\n",
    "output_data_file = \"output_data/cities.csv\"\n",
    "\n",
    "# Range of latitudes and longitudes\n",
    "lat_range = (-90, 90)\n",
    "lng_range = (-180, 180)"
   ]
  },
  {
   "cell_type": "markdown",
   "metadata": {},
   "source": [
    "## Generate Cities List"
   ]
  },
  {
   "cell_type": "code",
   "execution_count": 2,
   "metadata": {},
   "outputs": [
    {
     "data": {
      "text/plain": [
       "631"
      ]
     },
     "execution_count": 2,
     "metadata": {},
     "output_type": "execute_result"
    }
   ],
   "source": [
    "# List for holding lat_lngs and cities\n",
    "lat_lngs = []\n",
    "cities = []\n",
    "\n",
    "# Create a set of random lat and lng combinations\n",
    "lats = np.random.uniform(lat_range[0], lat_range[1], size=1500)\n",
    "lngs = np.random.uniform(lng_range[0], lng_range[1], size=1500)\n",
    "lat_lngs = zip(lats, lngs)\n",
    "\n",
    "# Identify nearest city for each lat, lng combination\n",
    "for lat_lng in lat_lngs:\n",
    "    city = citipy.nearest_city(lat_lng[0], lat_lng[1]).city_name\n",
    "    \n",
    "    # If the city is unique, then add it to a our cities list\n",
    "    if city not in cities:\n",
    "        cities.append(city)\n",
    "\n",
    "# Print the city count to confirm sufficient count\n",
    "len(cities)\n",
    "\n"
   ]
  },
  {
   "cell_type": "markdown",
   "metadata": {},
   "source": [
    "### Perform API Calls\n",
    "* Perform a weather check on each city using a series of successive API calls.\n",
    "* Include a print log of each city as it'sbeing processed (with the city number and city name).\n"
   ]
  },
  {
   "cell_type": "code",
   "execution_count": 3,
   "metadata": {},
   "outputs": [
    {
     "name": "stdout",
     "output_type": "stream",
     "text": [
      "Beginning Data Retrieval\n",
      "-----------------------------\n",
      "Processing Record 1 of Set 1 | ushuaia\n",
      "Processing Record 2 of Set 1 | victoria\n",
      "Processing Record 3 of Set 1 | chuy\n",
      "Processing Record 4 of Set 1 | rio gallegos\n",
      "Processing Record 5 of Set 1 | mar del plata\n",
      "Processing Record 6 of Set 1 | bluff\n",
      "Processing Record 7 of Set 1 | bubaque\n",
      "Processing Record 8 of Set 1 | vaini\n",
      "Processing Record 9 of Set 1 | airai\n",
      "Processing Record 10 of Set 1 | mataura\n",
      "Processing Record 11 of Set 1 | port blair\n",
      "Processing Record 12 of Set 1 | taolanaro\n",
      "City not found. Skipping...\n",
      "Processing Record 12 of Set 1 | kruisfontein\n",
      "Processing Record 13 of Set 1 | yicheng\n",
      "Processing Record 14 of Set 1 | tiznit\n",
      "Processing Record 15 of Set 1 | ponta delgada\n",
      "Processing Record 16 of Set 1 | hilo\n",
      "Processing Record 17 of Set 1 | zaysan\n",
      "Processing Record 18 of Set 1 | eirunepe\n",
      "Processing Record 19 of Set 1 | nikolskoye\n",
      "Processing Record 20 of Set 1 | port alfred\n",
      "Processing Record 21 of Set 1 | pithoragarh\n",
      "Processing Record 22 of Set 1 | bengkulu\n",
      "Processing Record 23 of Set 1 | barrow\n",
      "Processing Record 24 of Set 1 | tidore\n",
      "City not found. Skipping...\n",
      "Processing Record 24 of Set 1 | antsohihy\n",
      "Processing Record 25 of Set 1 | bethel\n",
      "Processing Record 26 of Set 1 | cape town\n",
      "Processing Record 27 of Set 1 | puerto ayora\n",
      "Processing Record 28 of Set 1 | dikson\n",
      "Processing Record 29 of Set 1 | khatanga\n",
      "Processing Record 30 of Set 1 | nautla\n",
      "Processing Record 31 of Set 1 | belushya guba\n",
      "City not found. Skipping...\n",
      "Processing Record 31 of Set 1 | hervey bay\n",
      "Processing Record 32 of Set 1 | saint-philippe\n",
      "Processing Record 33 of Set 1 | hovd\n",
      "Processing Record 34 of Set 1 | jamestown\n",
      "Processing Record 35 of Set 1 | madison\n",
      "Processing Record 36 of Set 1 | nanortalik\n",
      "Processing Record 37 of Set 1 | mongar\n",
      "Processing Record 38 of Set 1 | guerrero negro\n",
      "Processing Record 39 of Set 1 | rikitea\n",
      "Processing Record 40 of Set 1 | hithadhoo\n",
      "Processing Record 41 of Set 1 | brookings\n",
      "Processing Record 42 of Set 1 | amderma\n",
      "City not found. Skipping...\n",
      "Processing Record 42 of Set 1 | nome\n",
      "Processing Record 43 of Set 1 | ribeira grande\n",
      "Processing Record 44 of Set 1 | gallup\n",
      "Processing Record 45 of Set 1 | grindavik\n",
      "Processing Record 46 of Set 1 | qaanaaq\n",
      "Processing Record 47 of Set 1 | saldanha\n",
      "Processing Record 48 of Set 1 | katsuura\n",
      "Processing Record 49 of Set 1 | yulara\n",
      "Processing Record 50 of Set 1 | busselton\n",
      "Processing Record 51 of Set 1 | warqla\n",
      "City not found. Skipping...\n",
      "Processing Record 51 of Set 1 | butaritari\n",
      "Processing Record 52 of Set 1 | awjilah\n",
      "Processing Record 53 of Set 1 | bahraich\n",
      "Processing Record 54 of Set 1 | kapaa\n",
      "Processing Record 55 of Set 1 | luanda\n",
      "Processing Record 56 of Set 1 | tuktoyaktuk\n",
      "Processing Record 57 of Set 1 | arraial do cabo\n",
      "Processing Record 58 of Set 1 | heze\n",
      "Processing Record 59 of Set 1 | punta arenas\n",
      "Processing Record 60 of Set 1 | severo-kurilsk\n",
      "Processing Record 61 of Set 1 | hadrut\n",
      "Processing Record 62 of Set 1 | east london\n",
      "Processing Record 63 of Set 1 | attawapiskat\n",
      "City not found. Skipping...\n",
      "Processing Record 63 of Set 1 | kaura namoda\n",
      "Processing Record 64 of Set 1 | oriximina\n",
      "Processing Record 65 of Set 1 | coquimbo\n",
      "Processing Record 66 of Set 1 | itarema\n",
      "Processing Record 67 of Set 1 | ostersund\n",
      "Processing Record 68 of Set 1 | nuristan\n",
      "Processing Record 69 of Set 1 | bredasdorp\n",
      "Processing Record 70 of Set 1 | hobart\n",
      "Processing Record 71 of Set 1 | albany\n",
      "Processing Record 72 of Set 1 | arkhangelos\n",
      "City not found. Skipping...\n",
      "Processing Record 72 of Set 1 | one hundred mile house\n",
      "City not found. Skipping...\n",
      "Processing Record 72 of Set 1 | sao joao da barra\n",
      "Processing Record 73 of Set 1 | zlobin\n",
      "Processing Record 74 of Set 1 | enzan\n",
      "Processing Record 75 of Set 1 | karaul\n",
      "City not found. Skipping...\n",
      "Processing Record 75 of Set 1 | fairbanks\n",
      "Processing Record 76 of Set 1 | kefamenanu\n",
      "Processing Record 77 of Set 1 | mitu\n",
      "Processing Record 78 of Set 1 | kahului\n",
      "Processing Record 79 of Set 1 | glace bay\n",
      "Processing Record 80 of Set 1 | manbij\n",
      "Processing Record 81 of Set 1 | samusu\n",
      "City not found. Skipping...\n",
      "Processing Record 81 of Set 1 | talnakh\n",
      "Processing Record 82 of Set 1 | karaton\n",
      "Processing Record 83 of Set 1 | lorengau\n",
      "Processing Record 84 of Set 1 | saleaula\n",
      "City not found. Skipping...\n",
      "Processing Record 84 of Set 1 | illoqqortoormiut\n",
      "City not found. Skipping...\n",
      "Processing Record 84 of Set 1 | marcona\n",
      "City not found. Skipping...\n",
      "Processing Record 84 of Set 1 | mikhaylovka\n",
      "Processing Record 85 of Set 1 | bambous virieux\n",
      "Processing Record 86 of Set 1 | constitucion\n",
      "Processing Record 87 of Set 1 | kodiak\n",
      "Processing Record 88 of Set 1 | padang\n",
      "Processing Record 89 of Set 1 | trud\n",
      "Processing Record 90 of Set 1 | leningradskiy\n",
      "Processing Record 91 of Set 1 | atuona\n",
      "Processing Record 92 of Set 1 | thompson\n",
      "Processing Record 93 of Set 1 | kavieng\n",
      "Processing Record 94 of Set 1 | freeport\n",
      "Processing Record 95 of Set 1 | aviles\n",
      "Processing Record 96 of Set 1 | provideniya\n",
      "Processing Record 97 of Set 1 | cabedelo\n",
      "Processing Record 98 of Set 1 | independenta\n",
      "Processing Record 99 of Set 1 | kilrush\n",
      "Processing Record 100 of Set 1 | atbasar\n",
      "Processing Record 101 of Set 1 | upernavik\n",
      "Processing Record 102 of Set 1 | zachagansk\n",
      "City not found. Skipping...\n",
      "Processing Record 102 of Set 1 | koshurnikovo\n",
      "Processing Record 103 of Set 1 | ancud\n",
      "Processing Record 104 of Set 1 | jalu\n",
      "Processing Record 105 of Set 1 | vila do maio\n",
      "Processing Record 106 of Set 1 | mahebourg\n",
      "Processing Record 107 of Set 1 | sentyabrskiy\n",
      "City not found. Skipping...\n",
      "Processing Record 107 of Set 1 | shubarkuduk\n",
      "Processing Record 108 of Set 1 | san cristobal\n",
      "Processing Record 109 of Set 1 | mount gambier\n",
      "Processing Record 110 of Set 1 | ust-maya\n",
      "Processing Record 111 of Set 1 | auki\n",
      "Processing Record 112 of Set 1 | vila velha\n",
      "Processing Record 113 of Set 1 | kodinsk\n",
      "Processing Record 114 of Set 1 | tuatapere\n",
      "Processing Record 115 of Set 1 | masallatah\n",
      "Processing Record 116 of Set 1 | alashtar\n",
      "City not found. Skipping...\n",
      "Processing Record 116 of Set 1 | ambon\n",
      "Processing Record 117 of Set 1 | wenzhou\n",
      "Processing Record 118 of Set 1 | pandan\n",
      "Processing Record 119 of Set 1 | banmo\n",
      "City not found. Skipping...\n",
      "Processing Record 119 of Set 1 | teguldet\n",
      "Processing Record 120 of Set 1 | pevek\n",
      "Processing Record 121 of Set 1 | clyde river\n",
      "Processing Record 122 of Set 1 | new norfolk\n",
      "Processing Record 123 of Set 1 | mwinilunga\n",
      "Processing Record 124 of Set 1 | antalaha\n",
      "Processing Record 125 of Set 1 | yellowknife\n",
      "Processing Record 126 of Set 1 | kuah\n",
      "Processing Record 127 of Set 1 | san quintin\n",
      "Processing Record 128 of Set 1 | geraldton\n",
      "Processing Record 129 of Set 1 | ribeira brava\n",
      "Processing Record 130 of Set 1 | hermanus\n",
      "Processing Record 131 of Set 1 | wajid\n",
      "Processing Record 132 of Set 1 | norman wells\n",
      "Processing Record 133 of Set 1 | lebu\n",
      "Processing Record 134 of Set 1 | bati\n",
      "Processing Record 135 of Set 1 | staunton\n",
      "Processing Record 136 of Set 1 | coihaique\n",
      "Processing Record 137 of Set 1 | canmore\n",
      "Processing Record 138 of Set 1 | chemainus\n",
      "Processing Record 139 of Set 1 | kandrian\n",
      "Processing Record 140 of Set 1 | ambilobe\n",
      "Processing Record 141 of Set 1 | karamea\n",
      "City not found. Skipping...\n",
      "Processing Record 141 of Set 1 | los llanos de aridane\n",
      "Processing Record 142 of Set 1 | dawson creek\n",
      "Processing Record 143 of Set 1 | cidreira\n",
      "Processing Record 144 of Set 1 | kudamatsu\n",
      "Processing Record 145 of Set 1 | nantucket\n",
      "Processing Record 146 of Set 1 | hofn\n",
      "Processing Record 147 of Set 1 | nsawam\n",
      "Processing Record 148 of Set 1 | evensk\n",
      "Processing Record 149 of Set 1 | saskylakh\n",
      "Processing Record 150 of Set 1 | contramaestre\n",
      "Processing Record 151 of Set 1 | samarai\n",
      "Processing Record 152 of Set 1 | sur\n",
      "Processing Record 153 of Set 1 | ventspils\n",
      "Processing Record 154 of Set 1 | richards bay\n",
      "Processing Record 155 of Set 1 | sinkat\n",
      "City not found. Skipping...\n",
      "Processing Record 155 of Set 1 | nador\n",
      "Processing Record 156 of Set 1 | faya\n",
      "Processing Record 157 of Set 1 | taksimo\n",
      "Processing Record 158 of Set 1 | segezha\n",
      "Processing Record 159 of Set 1 | loiza\n",
      "Processing Record 160 of Set 1 | doiwala\n",
      "Processing Record 161 of Set 1 | manaquiri\n",
      "Processing Record 162 of Set 1 | carnarvon\n",
      "Processing Record 163 of Set 1 | tiksi\n",
      "Processing Record 164 of Set 1 | north bend\n"
     ]
    },
    {
     "name": "stdout",
     "output_type": "stream",
     "text": [
      "Processing Record 165 of Set 1 | cherskiy\n",
      "Processing Record 166 of Set 1 | sosnovo-ozerskoye\n",
      "Processing Record 167 of Set 1 | manokwari\n",
      "Processing Record 168 of Set 1 | mackay\n",
      "Processing Record 169 of Set 1 | staines\n",
      "Processing Record 170 of Set 1 | narsaq\n",
      "Processing Record 171 of Set 1 | dickinson\n",
      "Processing Record 172 of Set 1 | nalut\n",
      "Processing Record 173 of Set 1 | saint george\n",
      "Processing Record 174 of Set 1 | kiunga\n",
      "Processing Record 175 of Set 1 | lagos\n",
      "Processing Record 176 of Set 1 | ozinki\n",
      "Processing Record 177 of Set 1 | oktyabrskiy\n",
      "Processing Record 178 of Set 1 | castro\n",
      "Processing Record 179 of Set 1 | luan\n",
      "Processing Record 180 of Set 1 | hami\n",
      "Processing Record 181 of Set 1 | abu jubayhah\n",
      "City not found. Skipping...\n",
      "Processing Record 181 of Set 1 | ostrovnoy\n",
      "Processing Record 182 of Set 1 | miramar\n",
      "Processing Record 183 of Set 1 | avarua\n",
      "Processing Record 184 of Set 1 | toccoa\n",
      "Processing Record 185 of Set 1 | suntar\n",
      "Processing Record 186 of Set 1 | kieta\n",
      "Processing Record 187 of Set 1 | mabay\n",
      "Processing Record 188 of Set 1 | boditi\n",
      "Processing Record 189 of Set 1 | los negros\n",
      "Processing Record 190 of Set 1 | magnitogorsk\n",
      "Processing Record 191 of Set 1 | turayf\n",
      "Processing Record 192 of Set 1 | singaraja\n",
      "Processing Record 193 of Set 1 | cayenne\n",
      "Processing Record 194 of Set 1 | bucksport\n",
      "Processing Record 195 of Set 1 | fare\n",
      "Processing Record 196 of Set 1 | kununurra\n",
      "Processing Record 197 of Set 1 | salina\n",
      "Processing Record 198 of Set 1 | aklavik\n",
      "Processing Record 199 of Set 1 | broome\n",
      "Processing Record 1 of Set 2 | doka\n",
      "Processing Record 2 of Set 2 | kashi\n",
      "Processing Record 3 of Set 2 | saint-pierre\n",
      "Processing Record 4 of Set 2 | khor\n",
      "Processing Record 5 of Set 2 | laguna\n",
      "Processing Record 6 of Set 2 | san borja\n",
      "Processing Record 7 of Set 2 | faanui\n",
      "Processing Record 8 of Set 2 | dunedin\n",
      "Processing Record 9 of Set 2 | kerema\n",
      "Processing Record 10 of Set 2 | khokholskiy\n",
      "City not found. Skipping...\n",
      "Processing Record 10 of Set 2 | vila franca do campo\n",
      "Processing Record 11 of Set 2 | georgetown\n",
      "Processing Record 12 of Set 2 | jonesboro\n",
      "Processing Record 13 of Set 2 | nambucca heads\n",
      "Processing Record 14 of Set 2 | barentsburg\n",
      "City not found. Skipping...\n",
      "Processing Record 14 of Set 2 | isiro\n",
      "Processing Record 15 of Set 2 | kamenskoye\n",
      "City not found. Skipping...\n",
      "Processing Record 15 of Set 2 | bushenyi\n",
      "Processing Record 16 of Set 2 | coahuayana\n",
      "Processing Record 17 of Set 2 | ilulissat\n",
      "Processing Record 18 of Set 2 | mao\n",
      "Processing Record 19 of Set 2 | rungata\n",
      "City not found. Skipping...\n",
      "Processing Record 19 of Set 2 | andenes\n",
      "Processing Record 20 of Set 2 | urumqi\n",
      "Processing Record 21 of Set 2 | vao\n",
      "Processing Record 22 of Set 2 | pangnirtung\n",
      "Processing Record 23 of Set 2 | novyy urengoy\n",
      "Processing Record 24 of Set 2 | balezino\n",
      "Processing Record 25 of Set 2 | visby\n",
      "Processing Record 26 of Set 2 | safaga\n",
      "Processing Record 27 of Set 2 | kilindoni\n",
      "Processing Record 28 of Set 2 | port elizabeth\n",
      "Processing Record 29 of Set 2 | satitoa\n",
      "City not found. Skipping...\n",
      "Processing Record 29 of Set 2 | longyearbyen\n",
      "Processing Record 30 of Set 2 | tingrela\n",
      "City not found. Skipping...\n",
      "Processing Record 30 of Set 2 | mananjary\n",
      "Processing Record 31 of Set 2 | zyryanka\n",
      "Processing Record 32 of Set 2 | srednekolymsk\n",
      "Processing Record 33 of Set 2 | kismayo\n",
      "Processing Record 34 of Set 2 | hasaki\n",
      "Processing Record 35 of Set 2 | baykit\n",
      "Processing Record 36 of Set 2 | hailar\n",
      "Processing Record 37 of Set 2 | kalulushi\n",
      "Processing Record 38 of Set 2 | tasiilaq\n",
      "Processing Record 39 of Set 2 | shurugwi\n",
      "Processing Record 40 of Set 2 | lima\n",
      "Processing Record 41 of Set 2 | asheville\n",
      "Processing Record 42 of Set 2 | teluknaga\n",
      "Processing Record 43 of Set 2 | bam\n",
      "Processing Record 44 of Set 2 | herat\n",
      "Processing Record 45 of Set 2 | kolondieba\n",
      "Processing Record 46 of Set 2 | bose\n",
      "Processing Record 47 of Set 2 | seoul\n",
      "Processing Record 48 of Set 2 | tsihombe\n",
      "City not found. Skipping...\n",
      "Processing Record 48 of Set 2 | yanan\n",
      "City not found. Skipping...\n",
      "Processing Record 48 of Set 2 | tir pol\n",
      "City not found. Skipping...\n",
      "Processing Record 48 of Set 2 | benguela\n",
      "Processing Record 49 of Set 2 | elat\n",
      "Processing Record 50 of Set 2 | isangel\n",
      "Processing Record 51 of Set 2 | huehuetenango\n",
      "Processing Record 52 of Set 2 | san rafael\n",
      "Processing Record 53 of Set 2 | artyk\n",
      "City not found. Skipping...\n",
      "Processing Record 53 of Set 2 | bayangol\n",
      "Processing Record 54 of Set 2 | mujiayingzi\n",
      "Processing Record 55 of Set 2 | harur\n",
      "Processing Record 56 of Set 2 | magadan\n",
      "Processing Record 57 of Set 2 | puerto escondido\n",
      "Processing Record 58 of Set 2 | karabuk\n",
      "Processing Record 59 of Set 2 | korablino\n",
      "Processing Record 60 of Set 2 | olafsvik\n",
      "Processing Record 61 of Set 2 | zeya\n",
      "Processing Record 62 of Set 2 | leshukonskoye\n",
      "Processing Record 63 of Set 2 | normandin\n",
      "Processing Record 64 of Set 2 | afgoye\n",
      "City not found. Skipping...\n",
      "Processing Record 64 of Set 2 | heiligenhafen\n",
      "Processing Record 65 of Set 2 | salinopolis\n",
      "Processing Record 66 of Set 2 | pekin\n",
      "Processing Record 67 of Set 2 | havre-saint-pierre\n",
      "Processing Record 68 of Set 2 | diamantino\n",
      "Processing Record 69 of Set 2 | huarmey\n",
      "Processing Record 70 of Set 2 | ponta do sol\n",
      "Processing Record 71 of Set 2 | deputatskiy\n",
      "Processing Record 72 of Set 2 | alofi\n",
      "Processing Record 73 of Set 2 | methoni\n",
      "Processing Record 74 of Set 2 | edson\n",
      "Processing Record 75 of Set 2 | chagda\n",
      "City not found. Skipping...\n",
      "Processing Record 75 of Set 2 | barranca\n",
      "Processing Record 76 of Set 2 | tauranga\n",
      "Processing Record 77 of Set 2 | storslett\n",
      "Processing Record 78 of Set 2 | riacho de santana\n",
      "Processing Record 79 of Set 2 | ampanihy\n",
      "Processing Record 80 of Set 2 | teguise\n",
      "Processing Record 81 of Set 2 | nhamunda\n",
      "Processing Record 82 of Set 2 | nileshwar\n",
      "Processing Record 83 of Set 2 | banepa\n",
      "Processing Record 84 of Set 2 | chokurdakh\n",
      "Processing Record 85 of Set 2 | pitimbu\n",
      "Processing Record 86 of Set 2 | namie\n",
      "Processing Record 87 of Set 2 | bururi\n",
      "Processing Record 88 of Set 2 | calama\n",
      "Processing Record 89 of Set 2 | ilovlya\n",
      "Processing Record 90 of Set 2 | lakes entrance\n",
      "Processing Record 91 of Set 2 | salalah\n",
      "Processing Record 92 of Set 2 | vasterhaninge\n",
      "Processing Record 93 of Set 2 | halalo\n",
      "City not found. Skipping...\n",
      "Processing Record 93 of Set 2 | tazovskiy\n",
      "Processing Record 94 of Set 2 | riyadh\n",
      "Processing Record 95 of Set 2 | poum\n",
      "Processing Record 96 of Set 2 | maniitsoq\n",
      "Processing Record 97 of Set 2 | clarence town\n",
      "Processing Record 98 of Set 2 | suzun\n",
      "Processing Record 99 of Set 2 | aripuana\n",
      "Processing Record 100 of Set 2 | los aquijes\n",
      "Processing Record 101 of Set 2 | viedma\n",
      "Processing Record 102 of Set 2 | lagoa\n",
      "Processing Record 103 of Set 2 | reshetylivka\n",
      "Processing Record 104 of Set 2 | iqaluit\n",
      "Processing Record 105 of Set 2 | mys shmidta\n",
      "City not found. Skipping...\n",
      "Processing Record 105 of Set 2 | ugoofaaru\n",
      "Processing Record 106 of Set 2 | flinders\n",
      "Processing Record 107 of Set 2 | korla\n",
      "Processing Record 108 of Set 2 | pombal\n",
      "Processing Record 109 of Set 2 | diffa\n",
      "Processing Record 110 of Set 2 | chontaul\n",
      "Processing Record 111 of Set 2 | cabo san lucas\n",
      "Processing Record 112 of Set 2 | klaksvik\n",
      "Processing Record 113 of Set 2 | meulaboh\n",
      "Processing Record 114 of Set 2 | naze\n",
      "Processing Record 115 of Set 2 | smithers\n",
      "Processing Record 116 of Set 2 | parakou\n",
      "Processing Record 117 of Set 2 | sept-iles\n",
      "Processing Record 118 of Set 2 | scottsboro\n",
      "Processing Record 119 of Set 2 | samalaeulu\n",
      "City not found. Skipping...\n",
      "Processing Record 119 of Set 2 | montbeliard\n",
      "Processing Record 120 of Set 2 | sechura\n",
      "Processing Record 121 of Set 2 | berlevag\n",
      "Processing Record 122 of Set 2 | jinxiang\n",
      "Processing Record 123 of Set 2 | torbay\n",
      "Processing Record 124 of Set 2 | oktyabrskoye\n",
      "Processing Record 125 of Set 2 | soavinandriana\n",
      "Processing Record 126 of Set 2 | yaring\n",
      "Processing Record 127 of Set 2 | ternate\n",
      "Processing Record 128 of Set 2 | san patricio\n",
      "Processing Record 129 of Set 2 | xining\n",
      "Processing Record 130 of Set 2 | sao filipe\n",
      "Processing Record 131 of Set 2 | emerald\n",
      "Processing Record 132 of Set 2 | pangai\n",
      "Processing Record 133 of Set 2 | atar\n",
      "Processing Record 134 of Set 2 | kibara\n",
      "Processing Record 135 of Set 2 | nabire\n",
      "Processing Record 136 of Set 2 | grand river south east\n",
      "City not found. Skipping...\n"
     ]
    },
    {
     "name": "stdout",
     "output_type": "stream",
     "text": [
      "Processing Record 136 of Set 2 | baoshan\n",
      "Processing Record 137 of Set 2 | nova olimpia\n",
      "Processing Record 138 of Set 2 | eureka\n",
      "Processing Record 139 of Set 2 | nizhneyansk\n",
      "City not found. Skipping...\n",
      "Processing Record 139 of Set 2 | sakaiminato\n",
      "Processing Record 140 of Set 2 | qui nhon\n",
      "Processing Record 141 of Set 2 | ust-omchug\n",
      "Processing Record 142 of Set 2 | semey\n",
      "Processing Record 143 of Set 2 | kutum\n",
      "Processing Record 144 of Set 2 | kysyl-syr\n",
      "Processing Record 145 of Set 2 | san ramon\n",
      "Processing Record 146 of Set 2 | burnie\n",
      "Processing Record 147 of Set 2 | kirakira\n",
      "Processing Record 148 of Set 2 | lazarev\n",
      "Processing Record 149 of Set 2 | ketchikan\n",
      "Processing Record 150 of Set 2 | caravelas\n",
      "Processing Record 151 of Set 2 | rawannawi\n",
      "City not found. Skipping...\n",
      "Processing Record 151 of Set 2 | grand gaube\n",
      "Processing Record 152 of Set 2 | umzimvubu\n",
      "City not found. Skipping...\n",
      "Processing Record 152 of Set 2 | prince rupert\n",
      "Processing Record 153 of Set 2 | salihorsk\n",
      "Processing Record 154 of Set 2 | houston\n",
      "Processing Record 155 of Set 2 | oranjestad\n",
      "Processing Record 156 of Set 2 | gornopravdinsk\n",
      "Processing Record 157 of Set 2 | zhigalovo\n",
      "Processing Record 158 of Set 2 | avera\n",
      "Processing Record 159 of Set 2 | nemuro\n",
      "Processing Record 160 of Set 2 | hengyang\n",
      "Processing Record 161 of Set 2 | acapulco\n",
      "Processing Record 162 of Set 2 | abu kamal\n",
      "Processing Record 163 of Set 2 | portland\n",
      "Processing Record 164 of Set 2 | kloulklubed\n",
      "Processing Record 165 of Set 2 | fortuna\n",
      "Processing Record 166 of Set 2 | gobo\n",
      "Processing Record 167 of Set 2 | srandakan\n",
      "Processing Record 168 of Set 2 | charcas\n",
      "Processing Record 169 of Set 2 | armacao dos buzios\n",
      "City not found. Skipping...\n",
      "Processing Record 169 of Set 2 | along\n",
      "Processing Record 170 of Set 2 | panguna\n",
      "Processing Record 171 of Set 2 | bolungarvik\n",
      "City not found. Skipping...\n",
      "Processing Record 171 of Set 2 | cairns\n",
      "Processing Record 172 of Set 2 | solvychegodsk\n",
      "Processing Record 173 of Set 2 | coos bay\n",
      "Processing Record 174 of Set 2 | tura\n",
      "Processing Record 175 of Set 2 | port hardy\n",
      "Processing Record 176 of Set 2 | mchinji\n",
      "Processing Record 177 of Set 2 | uzumlu\n",
      "City not found. Skipping...\n",
      "Processing Record 177 of Set 2 | garoua\n",
      "Processing Record 178 of Set 2 | manta\n",
      "Processing Record 179 of Set 2 | karratha\n",
      "Processing Record 180 of Set 2 | puerto colombia\n",
      "Processing Record 181 of Set 2 | la ronge\n",
      "Processing Record 182 of Set 2 | tarakan\n",
      "Processing Record 183 of Set 2 | husavik\n",
      "Processing Record 184 of Set 2 | ambovombe\n",
      "Processing Record 185 of Set 2 | sitka\n",
      "Processing Record 186 of Set 2 | krabi\n",
      "Processing Record 187 of Set 2 | nelson bay\n",
      "Processing Record 188 of Set 2 | haradok\n",
      "Processing Record 189 of Set 2 | maneadero\n",
      "Processing Record 190 of Set 2 | youkounkoun\n",
      "Processing Record 191 of Set 2 | pacific grove\n",
      "Processing Record 192 of Set 2 | calabozo\n",
      "Processing Record 193 of Set 2 | derbent\n",
      "Processing Record 194 of Set 2 | cap malheureux\n",
      "Processing Record 195 of Set 2 | khuzhir\n",
      "Processing Record 196 of Set 2 | saurimo\n",
      "Processing Record 197 of Set 2 | weyburn\n",
      "Processing Record 198 of Set 2 | khanpur\n",
      "Processing Record 199 of Set 2 | yerbogachen\n",
      "Processing Record 1 of Set 3 | alugan\n",
      "Processing Record 2 of Set 3 | nenjiang\n",
      "Processing Record 3 of Set 3 | neyshabur\n",
      "Processing Record 4 of Set 3 | kingman\n",
      "Processing Record 5 of Set 3 | gat\n",
      "Processing Record 6 of Set 3 | ayagoz\n",
      "Processing Record 7 of Set 3 | saint-francois\n",
      "Processing Record 8 of Set 3 | kamenka\n",
      "Processing Record 9 of Set 3 | jiexiu\n",
      "Processing Record 10 of Set 3 | pisco\n",
      "Processing Record 11 of Set 3 | karatsu\n",
      "Processing Record 12 of Set 3 | boa vista\n",
      "Processing Record 13 of Set 3 | lugoba\n",
      "Processing Record 14 of Set 3 | aljezur\n",
      "Processing Record 15 of Set 3 | pirawa\n",
      "Processing Record 16 of Set 3 | zelenoborskiy\n",
      "Processing Record 17 of Set 3 | mogadishu\n",
      "Processing Record 18 of Set 3 | kegayli\n",
      "City not found. Skipping...\n",
      "Processing Record 18 of Set 3 | la venta del astillero\n",
      "Processing Record 19 of Set 3 | dinsor\n",
      "City not found. Skipping...\n",
      "Processing Record 19 of Set 3 | hailey\n",
      "Processing Record 20 of Set 3 | honningsvag\n",
      "Processing Record 21 of Set 3 | carauari\n",
      "Processing Record 22 of Set 3 | pachino\n",
      "Processing Record 23 of Set 3 | toliary\n",
      "City not found. Skipping...\n",
      "Processing Record 23 of Set 3 | umm kaddadah\n",
      "Processing Record 24 of Set 3 | wilmington\n",
      "Processing Record 25 of Set 3 | kaitangata\n",
      "Processing Record 26 of Set 3 | kirensk\n",
      "Processing Record 27 of Set 3 | druzhnaya gorka\n",
      "Processing Record 28 of Set 3 | lavrentiya\n",
      "Processing Record 29 of Set 3 | salsk\n",
      "Processing Record 30 of Set 3 | teneguiban\n",
      "City not found. Skipping...\n",
      "Processing Record 30 of Set 3 | kumano\n",
      "Processing Record 31 of Set 3 | dhidhdhoo\n",
      "Processing Record 32 of Set 3 | bilibino\n",
      "Processing Record 33 of Set 3 | sabha\n",
      "Processing Record 34 of Set 3 | luderitz\n",
      "Processing Record 35 of Set 3 | whitefish\n",
      "Processing Record 36 of Set 3 | bako\n",
      "Processing Record 37 of Set 3 | miyang\n",
      "Processing Record 38 of Set 3 | almaznyy\n",
      "Processing Record 39 of Set 3 | cochrane\n",
      "Processing Record 40 of Set 3 | taltal\n",
      "Processing Record 41 of Set 3 | vostok\n",
      "Processing Record 42 of Set 3 | victor harbor\n",
      "Processing Record 43 of Set 3 | itoman\n",
      "Processing Record 44 of Set 3 | tual\n",
      "Processing Record 45 of Set 3 | menongue\n",
      "Processing Record 46 of Set 3 | alegre\n",
      "Processing Record 47 of Set 3 | phalodi\n",
      "Processing Record 48 of Set 3 | benjamin constant\n",
      "Processing Record 49 of Set 3 | shirokiy\n",
      "Processing Record 50 of Set 3 | felanitx\n",
      "Processing Record 51 of Set 3 | thessalon\n",
      "Processing Record 52 of Set 3 | nosy varika\n",
      "Processing Record 53 of Set 3 | bayir\n",
      "Processing Record 54 of Set 3 | kitimat\n",
      "Processing Record 55 of Set 3 | kristiansund\n",
      "Processing Record 56 of Set 3 | ushtobe\n",
      "Processing Record 57 of Set 3 | hihifo\n",
      "City not found. Skipping...\n",
      "Processing Record 57 of Set 3 | saint-marc-des-carrieres\n",
      "Processing Record 58 of Set 3 | zurrieq\n",
      "Processing Record 59 of Set 3 | puerto madryn\n",
      "Processing Record 60 of Set 3 | willowmore\n",
      "Processing Record 61 of Set 3 | mergui\n",
      "City not found. Skipping...\n",
      "Processing Record 61 of Set 3 | ilyich\n",
      "Processing Record 62 of Set 3 | togur\n",
      "Processing Record 63 of Set 3 | wamba\n",
      "Processing Record 64 of Set 3 | solnechnyy\n",
      "Processing Record 65 of Set 3 | trairi\n",
      "Processing Record 66 of Set 3 | arti\n",
      "Processing Record 67 of Set 3 | vardo\n",
      "Processing Record 68 of Set 3 | vaitupu\n",
      "City not found. Skipping...\n",
      "Processing Record 68 of Set 3 | kudat\n",
      "Processing Record 69 of Set 3 | tukrah\n",
      "Processing Record 70 of Set 3 | sayanogorsk\n",
      "Processing Record 71 of Set 3 | llanes\n",
      "Processing Record 72 of Set 3 | cockburn town\n",
      "Processing Record 73 of Set 3 | mersing\n",
      "Processing Record 74 of Set 3 | leh\n",
      "Processing Record 75 of Set 3 | lodja\n",
      "Processing Record 76 of Set 3 | bandundu\n",
      "Processing Record 77 of Set 3 | high level\n",
      "Processing Record 78 of Set 3 | anqing\n",
      "Processing Record 79 of Set 3 | verkhnetulomskiy\n",
      "Processing Record 80 of Set 3 | beibei\n",
      "Processing Record 81 of Set 3 | fez\n",
      "Processing Record 82 of Set 3 | thinadhoo\n",
      "Processing Record 83 of Set 3 | labuhan\n",
      "Processing Record 84 of Set 3 | tornio\n",
      "Processing Record 85 of Set 3 | santa fe\n",
      "Processing Record 86 of Set 3 | muros\n",
      "Processing Record 87 of Set 3 | plettenberg bay\n",
      "Processing Record 88 of Set 3 | chapais\n",
      "Processing Record 89 of Set 3 | tela\n",
      "Processing Record 90 of Set 3 | sarvar\n",
      "Processing Record 91 of Set 3 | warrnambool\n",
      "Processing Record 92 of Set 3 | sisophon\n",
      "Processing Record 93 of Set 3 | esperance\n",
      "Processing Record 94 of Set 3 | sibolga\n",
      "Processing Record 95 of Set 3 | berberati\n",
      "Processing Record 96 of Set 3 | sorland\n",
      "Processing Record 97 of Set 3 | mount isa\n",
      "Processing Record 98 of Set 3 | antofagasta\n",
      "Processing Record 99 of Set 3 | mvomero\n",
      "Processing Record 100 of Set 3 | joao camara\n",
      "Processing Record 101 of Set 3 | bani walid\n",
      "Processing Record 102 of Set 3 | tocache\n",
      "Processing Record 103 of Set 3 | imbituba\n",
      "Processing Record 104 of Set 3 | storforshei\n",
      "Processing Record 105 of Set 3 | souillac\n",
      "Processing Record 106 of Set 3 | tena\n",
      "Processing Record 107 of Set 3 | russell\n",
      "Processing Record 108 of Set 3 | touros\n",
      "Processing Record 109 of Set 3 | mrirt\n",
      "City not found. Skipping...\n",
      "Processing Record 109 of Set 3 | chegdomyn\n",
      "Processing Record 110 of Set 3 | tabas\n"
     ]
    },
    {
     "name": "stdout",
     "output_type": "stream",
     "text": [
      "Processing Record 111 of Set 3 | banda aceh\n",
      "Processing Record 112 of Set 3 | almeirim\n",
      "Processing Record 113 of Set 3 | westerland\n",
      "Processing Record 114 of Set 3 | ambulu\n",
      "Processing Record 115 of Set 3 | johi\n",
      "Processing Record 116 of Set 3 | west bay\n",
      "Processing Record 117 of Set 3 | vinh\n",
      "Processing Record 118 of Set 3 | camocim\n",
      "Processing Record 119 of Set 3 | redmond\n",
      "Processing Record 120 of Set 3 | matara\n",
      "Processing Record 121 of Set 3 | homer\n",
      "Processing Record 122 of Set 3 | porto novo\n",
      "Processing Record 123 of Set 3 | eldikan\n",
      "City not found. Skipping...\n",
      "Processing Record 123 of Set 3 | axim\n",
      "Processing Record 124 of Set 3 | revuca\n",
      "Processing Record 125 of Set 3 | yeppoon\n",
      "Processing Record 126 of Set 3 | narsipatnam\n",
      "Processing Record 127 of Set 3 | neftcala\n",
      "Processing Record 128 of Set 3 | bhadasar\n",
      "Processing Record 129 of Set 3 | ahuimanu\n",
      "Processing Record 130 of Set 3 | chillicothe\n",
      "Processing Record 131 of Set 3 | hambantota\n",
      "Processing Record 132 of Set 3 | kigorobya\n",
      "Processing Record 133 of Set 3 | juifang\n",
      "City not found. Skipping...\n",
      "Processing Record 133 of Set 3 | tarata\n",
      "Processing Record 134 of Set 3 | black river\n",
      "Processing Record 135 of Set 3 | atchison\n",
      "Processing Record 136 of Set 3 | niksic\n",
      "Processing Record 137 of Set 3 | nuevo chamelecon\n",
      "Processing Record 138 of Set 3 | qena\n",
      "Processing Record 139 of Set 3 | araouane\n",
      "Processing Record 140 of Set 3 | lagunillas\n",
      "Processing Record 141 of Set 3 | kaeo\n",
      "Processing Record 142 of Set 3 | jining\n",
      "Processing Record 143 of Set 3 | kathor\n",
      "Processing Record 144 of Set 3 | quesnel\n",
      "Processing Record 145 of Set 3 | fort saint john\n",
      "City not found. Skipping...\n",
      "Processing Record 145 of Set 3 | bima\n",
      "Processing Record 146 of Set 3 | opuwo\n",
      "Processing Record 147 of Set 3 | amos\n",
      "Processing Record 148 of Set 3 | biltine\n",
      "Processing Record 149 of Set 3 | sterling\n",
      "Processing Record 150 of Set 3 | peleduy\n",
      "Processing Record 151 of Set 3 | inirida\n",
      "Processing Record 152 of Set 3 | itabera\n",
      "Processing Record 153 of Set 3 | buon me thuot\n",
      "City not found. Skipping...\n",
      "Processing Record 153 of Set 3 | bojnurd\n",
      "Processing Record 154 of Set 3 | lisakovsk\n",
      "Processing Record 155 of Set 3 | santa cruz de tenerife\n",
      "Processing Record 156 of Set 3 | huanuco\n",
      "Processing Record 157 of Set 3 | kurilsk\n",
      "Processing Record 158 of Set 3 | ayan\n",
      "Processing Record 159 of Set 3 | dalhousie\n",
      "Processing Record 160 of Set 3 | alamogordo\n",
      "Processing Record 161 of Set 3 | hobyo\n",
      "Processing Record 162 of Set 3 | vanimo\n",
      "Processing Record 163 of Set 3 | giresun\n",
      "Processing Record 164 of Set 3 | yuci\n",
      "Processing Record 165 of Set 3 | camacha\n",
      "Processing Record 166 of Set 3 | tabuny\n",
      "Processing Record 167 of Set 3 | nguiu\n",
      "City not found. Skipping...\n",
      "Processing Record 167 of Set 3 | muravlenko\n",
      "Processing Record 168 of Set 3 | bhindar\n",
      "Processing Record 169 of Set 3 | severobaykalsk\n",
      "Processing Record 170 of Set 3 | dibaya\n",
      "City not found. Skipping...\n",
      "Processing Record 170 of Set 3 | neiafu\n",
      "Processing Record 171 of Set 3 | point fortin\n",
      "Processing Record 172 of Set 3 | hazorasp\n",
      "Processing Record 173 of Set 3 | oksfjord\n",
      "Processing Record 174 of Set 3 | yaan\n",
      "Processing Record 175 of Set 3 | jiuquan\n",
      "Processing Record 176 of Set 3 | tamparan\n",
      "Processing Record 177 of Set 3 | greytown\n",
      "-----------------------------\n",
      "Data Retrieval Complete\n",
      "-----------------------------\n"
     ]
    }
   ],
   "source": [
    "#Create weather dataframe\n",
    "city_weather_df=pd.DataFrame({\"City\":cities\n",
    "                              ,\"Lat\":\"\"\n",
    "                              ,\"Lng\":\"\"\n",
    "                              ,\"Max Temp\":\"\"\n",
    "                              ,\"Humidity\":\"\"\n",
    "                              ,\"Cloudiness\":\"\"\n",
    "                              ,\"Wind Speed\":\"\"\n",
    "                              ,\"Country\":\"\"\n",
    "                              ,\"Date\":\"\"\n",
    "                              })\n",
    "\n",
    "\n",
    "# Save config information.\n",
    "url = \"http://api.openweathermap.org/data/2.5/weather?\"\n",
    "units = \"imperial\"\n",
    "\n",
    "# Build partial query URL\n",
    "query_url = f\"{url}appid={weather_api_key}&units={units}&q=\"\n",
    "\n",
    "#Paratemeterize record count and record set\n",
    "record_set=1\n",
    "record_num = 1\n",
    "\n",
    "#Run loop to traverse through city_weather_df and populate required fields in df\n",
    "print(\"Beginning Data Retrieval\")    \n",
    "print(\"-----------------------------\")\n",
    "\n",
    "for index, row in city_weather_df.iterrows():\n",
    "    \n",
    "    response = requests.get(query_url + row['City']).json()\n",
    "    \n",
    "    try:\n",
    "        print(f\"Processing Record {record_num} of Set {record_set} | {row['City']}\")\n",
    "        \n",
    "        city_weather_df.loc[index, 'Lat'] = response['coord']['lat']\n",
    "        city_weather_df.loc[index, 'Lng'] = response['coord']['lon']\n",
    "        city_weather_df.loc[index, 'Max Temp'] = response['main']['temp_max']\n",
    "        city_weather_df.loc[index, 'Humidity'] = response['main']['humidity']\n",
    "        city_weather_df.loc[index, 'Cloudiness'] = response['clouds']['all']\n",
    "        city_weather_df.loc[index, 'Wind Speed'] = response['wind']['speed']\n",
    "        city_weather_df.loc[index, 'Country'] = response['sys']['country']\n",
    "        city_weather_df.loc[index, 'Date'] = response['dt']\n",
    "        \n",
    "        record_num += 1\n",
    "        \n",
    "    except (KeyError, IndexError):\n",
    "        print(\"City not found. Skipping...\")\n",
    "        \n",
    "    #If statement to handle the API call limits\n",
    "    if record_num == 200:\n",
    "        record_set += 1\n",
    "        record_num = 1\n",
    "        time.sleep(10)\n",
    "        \n",
    "print(\"-----------------------------\")\n",
    "print(\"Data Retrieval Complete\")    \n",
    "print(\"-----------------------------\")\n",
    "        "
   ]
  },
  {
   "cell_type": "markdown",
   "metadata": {},
   "source": [
    "### Convert Raw Data to DataFrame\n",
    "* Export the city data into a .csv.\n",
    "* Display the DataFrame"
   ]
  },
  {
   "cell_type": "code",
   "execution_count": 4,
   "metadata": {},
   "outputs": [
    {
     "data": {
      "text/plain": [
       "City          575\n",
       "Lat           575\n",
       "Lng           575\n",
       "Max Temp      575\n",
       "Humidity      575\n",
       "Cloudiness    575\n",
       "Wind Speed    575\n",
       "Country       575\n",
       "Date          575\n",
       "dtype: int64"
      ]
     },
     "execution_count": 4,
     "metadata": {},
     "output_type": "execute_result"
    }
   ],
   "source": [
    "#Clean the data by dropping columns with null values\n",
    "city_weather_df['Max Temp'] = city_weather_df['Max Temp'].replace('', np.nan)\n",
    "city_weather_df = city_weather_df.dropna()\n",
    "\n",
    "#Save data to a csv file\n",
    "output_data_file1 = \"output_data/cities_full_set.csv\"\n",
    "output_path = os.path.join(\"..\", output_data_file1)\n",
    "city_weather_df.to_csv(output_path, index=True, index_label=\"City_ID\", header=True)\n",
    "\n",
    "#Perform count of records in each column to verify they are equal\n",
    "city_weather_df.count()"
   ]
  },
  {
   "cell_type": "code",
   "execution_count": 5,
   "metadata": {},
   "outputs": [
    {
     "data": {
      "text/html": [
       "<div>\n",
       "<style scoped>\n",
       "    .dataframe tbody tr th:only-of-type {\n",
       "        vertical-align: middle;\n",
       "    }\n",
       "\n",
       "    .dataframe tbody tr th {\n",
       "        vertical-align: top;\n",
       "    }\n",
       "\n",
       "    .dataframe thead th {\n",
       "        text-align: right;\n",
       "    }\n",
       "</style>\n",
       "<table border=\"1\" class=\"dataframe\">\n",
       "  <thead>\n",
       "    <tr style=\"text-align: right;\">\n",
       "      <th></th>\n",
       "      <th>City</th>\n",
       "      <th>Lat</th>\n",
       "      <th>Lng</th>\n",
       "      <th>Max Temp</th>\n",
       "      <th>Humidity</th>\n",
       "      <th>Cloudiness</th>\n",
       "      <th>Wind Speed</th>\n",
       "      <th>Country</th>\n",
       "      <th>Date</th>\n",
       "    </tr>\n",
       "  </thead>\n",
       "  <tbody>\n",
       "    <tr>\n",
       "      <th>0</th>\n",
       "      <td>ushuaia</td>\n",
       "      <td>-54.8</td>\n",
       "      <td>-68.3</td>\n",
       "      <td>50.00</td>\n",
       "      <td>69</td>\n",
       "      <td>75</td>\n",
       "      <td>18.34</td>\n",
       "      <td>AR</td>\n",
       "      <td>1587239810</td>\n",
       "    </tr>\n",
       "    <tr>\n",
       "      <th>1</th>\n",
       "      <td>victoria</td>\n",
       "      <td>22.29</td>\n",
       "      <td>114.16</td>\n",
       "      <td>75.00</td>\n",
       "      <td>88</td>\n",
       "      <td>33</td>\n",
       "      <td>8.01</td>\n",
       "      <td>HK</td>\n",
       "      <td>1587240323</td>\n",
       "    </tr>\n",
       "    <tr>\n",
       "      <th>2</th>\n",
       "      <td>chuy</td>\n",
       "      <td>-33.7</td>\n",
       "      <td>-53.46</td>\n",
       "      <td>66.63</td>\n",
       "      <td>82</td>\n",
       "      <td>18</td>\n",
       "      <td>7.23</td>\n",
       "      <td>UY</td>\n",
       "      <td>1587240487</td>\n",
       "    </tr>\n",
       "    <tr>\n",
       "      <th>3</th>\n",
       "      <td>rio gallegos</td>\n",
       "      <td>-51.62</td>\n",
       "      <td>-69.22</td>\n",
       "      <td>60.80</td>\n",
       "      <td>51</td>\n",
       "      <td>75</td>\n",
       "      <td>20.8</td>\n",
       "      <td>AR</td>\n",
       "      <td>1587240086</td>\n",
       "    </tr>\n",
       "    <tr>\n",
       "      <th>4</th>\n",
       "      <td>mar del plata</td>\n",
       "      <td>-38</td>\n",
       "      <td>-57.56</td>\n",
       "      <td>75.20</td>\n",
       "      <td>50</td>\n",
       "      <td>1</td>\n",
       "      <td>16.11</td>\n",
       "      <td>AR</td>\n",
       "      <td>1587240201</td>\n",
       "    </tr>\n",
       "  </tbody>\n",
       "</table>\n",
       "</div>"
      ],
      "text/plain": [
       "            City    Lat     Lng  Max Temp Humidity Cloudiness Wind Speed  \\\n",
       "0        ushuaia  -54.8   -68.3     50.00       69         75      18.34   \n",
       "1       victoria  22.29  114.16     75.00       88         33       8.01   \n",
       "2           chuy  -33.7  -53.46     66.63       82         18       7.23   \n",
       "3   rio gallegos -51.62  -69.22     60.80       51         75       20.8   \n",
       "4  mar del plata    -38  -57.56     75.20       50          1      16.11   \n",
       "\n",
       "  Country        Date  \n",
       "0      AR  1587239810  \n",
       "1      HK  1587240323  \n",
       "2      UY  1587240487  \n",
       "3      AR  1587240086  \n",
       "4      AR  1587240201  "
      ]
     },
     "execution_count": 5,
     "metadata": {},
     "output_type": "execute_result"
    }
   ],
   "source": [
    "#Display df\n",
    "city_weather_df.head()"
   ]
  },
  {
   "cell_type": "markdown",
   "metadata": {},
   "source": [
    "## Inspect the data and remove the cities where the humidity > 100%.\n",
    "----\n",
    "Skip this step if there are no cities that have humidity > 100%. "
   ]
  },
  {
   "cell_type": "code",
   "execution_count": 6,
   "metadata": {},
   "outputs": [
    {
     "data": {
      "text/html": [
       "<div>\n",
       "<style scoped>\n",
       "    .dataframe tbody tr th:only-of-type {\n",
       "        vertical-align: middle;\n",
       "    }\n",
       "\n",
       "    .dataframe tbody tr th {\n",
       "        vertical-align: top;\n",
       "    }\n",
       "\n",
       "    .dataframe thead th {\n",
       "        text-align: right;\n",
       "    }\n",
       "</style>\n",
       "<table border=\"1\" class=\"dataframe\">\n",
       "  <thead>\n",
       "    <tr style=\"text-align: right;\">\n",
       "      <th></th>\n",
       "      <th>City</th>\n",
       "      <th>Lat</th>\n",
       "      <th>Lng</th>\n",
       "      <th>Max Temp</th>\n",
       "      <th>Humidity</th>\n",
       "      <th>Cloudiness</th>\n",
       "      <th>Wind Speed</th>\n",
       "      <th>Country</th>\n",
       "      <th>Date</th>\n",
       "    </tr>\n",
       "  </thead>\n",
       "  <tbody>\n",
       "    <tr>\n",
       "      <th>0</th>\n",
       "      <td>ushuaia</td>\n",
       "      <td>-54.8</td>\n",
       "      <td>-68.3</td>\n",
       "      <td>50.00</td>\n",
       "      <td>69</td>\n",
       "      <td>75</td>\n",
       "      <td>18.34</td>\n",
       "      <td>AR</td>\n",
       "      <td>1587239810</td>\n",
       "    </tr>\n",
       "    <tr>\n",
       "      <th>1</th>\n",
       "      <td>victoria</td>\n",
       "      <td>22.29</td>\n",
       "      <td>114.16</td>\n",
       "      <td>75.00</td>\n",
       "      <td>88</td>\n",
       "      <td>33</td>\n",
       "      <td>8.01</td>\n",
       "      <td>HK</td>\n",
       "      <td>1587240323</td>\n",
       "    </tr>\n",
       "    <tr>\n",
       "      <th>2</th>\n",
       "      <td>chuy</td>\n",
       "      <td>-33.7</td>\n",
       "      <td>-53.46</td>\n",
       "      <td>66.63</td>\n",
       "      <td>82</td>\n",
       "      <td>18</td>\n",
       "      <td>7.23</td>\n",
       "      <td>UY</td>\n",
       "      <td>1587240487</td>\n",
       "    </tr>\n",
       "    <tr>\n",
       "      <th>3</th>\n",
       "      <td>rio gallegos</td>\n",
       "      <td>-51.62</td>\n",
       "      <td>-69.22</td>\n",
       "      <td>60.80</td>\n",
       "      <td>51</td>\n",
       "      <td>75</td>\n",
       "      <td>20.8</td>\n",
       "      <td>AR</td>\n",
       "      <td>1587240086</td>\n",
       "    </tr>\n",
       "    <tr>\n",
       "      <th>4</th>\n",
       "      <td>mar del plata</td>\n",
       "      <td>-38</td>\n",
       "      <td>-57.56</td>\n",
       "      <td>75.20</td>\n",
       "      <td>50</td>\n",
       "      <td>1</td>\n",
       "      <td>16.11</td>\n",
       "      <td>AR</td>\n",
       "      <td>1587240201</td>\n",
       "    </tr>\n",
       "  </tbody>\n",
       "</table>\n",
       "</div>"
      ],
      "text/plain": [
       "            City    Lat     Lng  Max Temp Humidity Cloudiness Wind Speed  \\\n",
       "0        ushuaia  -54.8   -68.3     50.00       69         75      18.34   \n",
       "1       victoria  22.29  114.16     75.00       88         33       8.01   \n",
       "2           chuy  -33.7  -53.46     66.63       82         18       7.23   \n",
       "3   rio gallegos -51.62  -69.22     60.80       51         75       20.8   \n",
       "4  mar del plata    -38  -57.56     75.20       50          1      16.11   \n",
       "\n",
       "  Country        Date  \n",
       "0      AR  1587239810  \n",
       "1      HK  1587240323  \n",
       "2      UY  1587240487  \n",
       "3      AR  1587240086  \n",
       "4      AR  1587240201  "
      ]
     },
     "execution_count": 6,
     "metadata": {},
     "output_type": "execute_result"
    }
   ],
   "source": [
    "#Save new df data for citiries with humidity <= 100%\n",
    "city_weather_humid_df=city_weather_df.loc[city_weather_df['Humidity']<=100]\n",
    "city_weather_humid_df.head()"
   ]
  },
  {
   "cell_type": "code",
   "execution_count": 7,
   "metadata": {},
   "outputs": [
    {
     "data": {
      "text/plain": [
       "[]"
      ]
     },
     "execution_count": 7,
     "metadata": {},
     "output_type": "execute_result"
    }
   ],
   "source": [
    "#  Get the indices of cities that have humidity over 100%.\n",
    "humidity_indices= city_weather_df.loc[city_weather_df['Humidity']>100].index.values.tolist()\n",
    "humidity_indices"
   ]
  },
  {
   "cell_type": "code",
   "execution_count": 8,
   "metadata": {},
   "outputs": [
    {
     "data": {
      "text/html": [
       "<div>\n",
       "<style scoped>\n",
       "    .dataframe tbody tr th:only-of-type {\n",
       "        vertical-align: middle;\n",
       "    }\n",
       "\n",
       "    .dataframe tbody tr th {\n",
       "        vertical-align: top;\n",
       "    }\n",
       "\n",
       "    .dataframe thead th {\n",
       "        text-align: right;\n",
       "    }\n",
       "</style>\n",
       "<table border=\"1\" class=\"dataframe\">\n",
       "  <thead>\n",
       "    <tr style=\"text-align: right;\">\n",
       "      <th></th>\n",
       "      <th>City</th>\n",
       "      <th>Lat</th>\n",
       "      <th>Lng</th>\n",
       "      <th>Max Temp</th>\n",
       "      <th>Humidity</th>\n",
       "      <th>Cloudiness</th>\n",
       "      <th>Wind Speed</th>\n",
       "      <th>Country</th>\n",
       "      <th>Date</th>\n",
       "    </tr>\n",
       "  </thead>\n",
       "  <tbody>\n",
       "    <tr>\n",
       "      <th>0</th>\n",
       "      <td>ushuaia</td>\n",
       "      <td>-54.8</td>\n",
       "      <td>-68.3</td>\n",
       "      <td>50.00</td>\n",
       "      <td>69</td>\n",
       "      <td>75</td>\n",
       "      <td>18.34</td>\n",
       "      <td>AR</td>\n",
       "      <td>1587239810</td>\n",
       "    </tr>\n",
       "    <tr>\n",
       "      <th>1</th>\n",
       "      <td>victoria</td>\n",
       "      <td>22.29</td>\n",
       "      <td>114.16</td>\n",
       "      <td>75.00</td>\n",
       "      <td>88</td>\n",
       "      <td>33</td>\n",
       "      <td>8.01</td>\n",
       "      <td>HK</td>\n",
       "      <td>1587240323</td>\n",
       "    </tr>\n",
       "    <tr>\n",
       "      <th>2</th>\n",
       "      <td>chuy</td>\n",
       "      <td>-33.7</td>\n",
       "      <td>-53.46</td>\n",
       "      <td>66.63</td>\n",
       "      <td>82</td>\n",
       "      <td>18</td>\n",
       "      <td>7.23</td>\n",
       "      <td>UY</td>\n",
       "      <td>1587240487</td>\n",
       "    </tr>\n",
       "    <tr>\n",
       "      <th>3</th>\n",
       "      <td>rio gallegos</td>\n",
       "      <td>-51.62</td>\n",
       "      <td>-69.22</td>\n",
       "      <td>60.80</td>\n",
       "      <td>51</td>\n",
       "      <td>75</td>\n",
       "      <td>20.8</td>\n",
       "      <td>AR</td>\n",
       "      <td>1587240086</td>\n",
       "    </tr>\n",
       "    <tr>\n",
       "      <th>4</th>\n",
       "      <td>mar del plata</td>\n",
       "      <td>-38</td>\n",
       "      <td>-57.56</td>\n",
       "      <td>75.20</td>\n",
       "      <td>50</td>\n",
       "      <td>1</td>\n",
       "      <td>16.11</td>\n",
       "      <td>AR</td>\n",
       "      <td>1587240201</td>\n",
       "    </tr>\n",
       "  </tbody>\n",
       "</table>\n",
       "</div>"
      ],
      "text/plain": [
       "            City    Lat     Lng  Max Temp Humidity Cloudiness Wind Speed  \\\n",
       "0        ushuaia  -54.8   -68.3     50.00       69         75      18.34   \n",
       "1       victoria  22.29  114.16     75.00       88         33       8.01   \n",
       "2           chuy  -33.7  -53.46     66.63       82         18       7.23   \n",
       "3   rio gallegos -51.62  -69.22     60.80       51         75       20.8   \n",
       "4  mar del plata    -38  -57.56     75.20       50          1      16.11   \n",
       "\n",
       "  Country        Date  \n",
       "0      AR  1587239810  \n",
       "1      HK  1587240323  \n",
       "2      UY  1587240487  \n",
       "3      AR  1587240086  \n",
       "4      AR  1587240201  "
      ]
     },
     "execution_count": 8,
     "metadata": {},
     "output_type": "execute_result"
    }
   ],
   "source": [
    "# Make a new DataFrame equal to the city data to drop all humidity outliers by index.\n",
    "# Passing \"inplace=False\" will make a copy of the city_data DataFrame, which we call \"clean_city_data\".\n",
    "\n",
    "clean_city_data=city_weather_df.drop(humidity_indices,inplace=False) \n",
    "clean_city_data.head()"
   ]
  },
  {
   "cell_type": "code",
   "execution_count": 9,
   "metadata": {},
   "outputs": [],
   "source": [
    "# Extract relevant fields from the data frame\n",
    "clean_csv_df=clean_city_data[[\"City\",\"Lat\",\"Lng\",\"Max Temp\",\"Humidity\",\"Cloudiness\",\"Wind Speed\",\"Country\",\"Date\"]]\n",
    "\n",
    "# Export the City_Data into a csv\n",
    "output_path1 = os.path.join(\"..\", output_data_file)\n",
    "clean_csv_df.to_csv(output_path1, index=True, index_label=\"City_ID\", header=True)"
   ]
  },
  {
   "cell_type": "markdown",
   "metadata": {},
   "source": [
    "## Plotting the Data\n",
    "* Use proper labeling of the plots using plot titles (including date of analysis) and axes labels.\n",
    "* Save the plotted figures as .pngs."
   ]
  },
  {
   "cell_type": "markdown",
   "metadata": {},
   "source": [
    "## Latitude vs. Temperature Plot"
   ]
  },
  {
   "cell_type": "code",
   "execution_count": 10,
   "metadata": {
    "scrolled": true
   },
   "outputs": [
    {
     "data": {
      "image/png": "[encoded data removed]",
      "text/plain": [
       "<Figure size 432x288 with 1 Axes>"
      ]
     },
     "metadata": {
      "needs_background": "light"
     },
     "output_type": "display_data"
    }
   ],
   "source": [
    "## Convert to floats and store Latitude and Max Temp as x and y values\n",
    "x_values1 = clean_city_data['Lat'].astype('float')\n",
    "y_values1 = clean_city_data['Max Temp'].astype('float')\n",
    "\n",
    "# Plot scatter plot\n",
    "plt.scatter(x_values1,y_values1)\n",
    "\n",
    "# Label plot\n",
    "plt.xlabel('Latitude')\n",
    "plt.ylabel('Max Temperature (F)')\n",
    "plt.title(f'City Latitude vs. Max Temperature {time.strftime(\"%m/%d/%Y\")}')\n",
    "plt.grid(True)\n",
    "\n",
    "# Save the figure\n",
    "plt.savefig(\"../output_data/City_Lat-v-Max_Temp.png\")\n",
    "\n",
    "# Show plot\n",
    "plt.show()"
   ]
  },
  {
   "cell_type": "markdown",
   "metadata": {},
   "source": [
    "The above scatter plot appears to have a strong correlation in the Northern Hemisphere (Lat >= 0) and since a good-fit line drawn amongst these points would have a negative slope, that correlation is negative. So, in Northern hemisphere the temperature decreases with increase in latitude. \n",
    "In the Southern hemisphere, the slope is not as steep. The temperature variance is between 60 to 100 F for latitudes ranges -60 to 0. The further we travel in the Southern hemisphere, the tempature will decrease a little bit."
   ]
  },
  {
   "cell_type": "markdown",
   "metadata": {},
   "source": [
    "## Latitude vs. Humidity Plot"
   ]
  },
  {
   "cell_type": "code",
   "execution_count": 11,
   "metadata": {},
   "outputs": [
    {
     "data": {
      "image/png": "[encoded data removed]",
      "text/plain": [
       "<Figure size 432x288 with 1 Axes>"
      ]
     },
     "metadata": {
      "needs_background": "light"
     },
     "output_type": "display_data"
    }
   ],
   "source": [
    "## Convert to floats and store Latitude and Humidity as x and y values\n",
    "x_values2 = clean_city_data['Lat'].astype('float')\n",
    "y_values2 = clean_city_data['Humidity'].astype('float')\n",
    "\n",
    "# Plot scatter plot\n",
    "plt.scatter(x_values2,y_values2)\n",
    "\n",
    "# Label plot\n",
    "plt.xlabel('Latitude')\n",
    "plt.ylabel('Humidity (%)')\n",
    "plt.title(f'City Latitude vs. Humidity {time.strftime(\"%m/%d/%Y\")}')\n",
    "plt.grid(True)\n",
    "\n",
    "# Save the figure\n",
    "plt.savefig(\"../output_data/City_Lat-v-Humidity.png\")\n",
    "\n",
    "# Show plot\n",
    "plt.show()"
   ]
  },
  {
   "cell_type": "markdown",
   "metadata": {},
   "source": [
    "In the above plot between Latitude and Humidity, there doesn't appear to be any trend to these data points; they're just all over the place. There is no apparent correlation between Latitude and Humidity."
   ]
  },
  {
   "cell_type": "markdown",
   "metadata": {},
   "source": [
    "## Latitude vs. Cloudiness Plot"
   ]
  },
  {
   "cell_type": "code",
   "execution_count": 12,
   "metadata": {
    "scrolled": true
   },
   "outputs": [
    {
     "data": {
      "image/png": "[encoded data removed]",
      "text/plain": [
       "<Figure size 432x288 with 1 Axes>"
      ]
     },
     "metadata": {
      "needs_background": "light"
     },
     "output_type": "display_data"
    }
   ],
   "source": [
    "## Convert to floats and store Latitude and Cloudiness as x and y values\n",
    "x_values3 = clean_city_data['Lat'].astype('float')\n",
    "y_values3 = clean_city_data['Cloudiness'].astype('float')\n",
    "\n",
    "# Plot scatter plot\n",
    "plt.scatter(x_values3,y_values3)\n",
    "\n",
    "# Label plot\n",
    "plt.xlabel('Latitude')\n",
    "plt.ylabel('Cloudiness (%)')\n",
    "plt.title(f'City Latitude vs. Cloudiness {time.strftime(\"%m/%d/%Y\")}')\n",
    "plt.grid(True)\n",
    "\n",
    "# Save the figure\n",
    "plt.savefig(\"../output_data/City_Lat-v-Cloudiness.png\")\n",
    "\n",
    "# Show plot\n",
    "plt.show()"
   ]
  },
  {
   "cell_type": "markdown",
   "metadata": {},
   "source": [
    "In the above plot between Latitude and Cloudiness, there doesn't appear to be any trend to these data points; they're just all over the place. There is no apparent correlation between Latitude and Cloudiness."
   ]
  },
  {
   "cell_type": "markdown",
   "metadata": {},
   "source": [
    "## Latitude vs. Wind Speed Plot"
   ]
  },
  {
   "cell_type": "code",
   "execution_count": 13,
   "metadata": {},
   "outputs": [
    {
     "data": {
      "image/png": "[encoded data removed]",
      "text/plain": [
       "<Figure size 432x288 with 1 Axes>"
      ]
     },
     "metadata": {
      "needs_background": "light"
     },
     "output_type": "display_data"
    }
   ],
   "source": [
    "## Convert to floats and store Latitude and Wind Speed as x and y values\n",
    "x_values4 = clean_city_data['Lat'].astype('float')\n",
    "y_values4 = clean_city_data['Wind Speed'].astype('float')\n",
    "\n",
    "# Plot scatter plot\n",
    "plt.scatter(x_values4,y_values4)\n",
    "\n",
    "# Label plot\n",
    "plt.xlabel('Latitude')\n",
    "plt.ylabel('Wind Speed (mph)')\n",
    "plt.title(f'City Latitude vs. Wind Speed {time.strftime(\"%m/%d/%Y\")}')\n",
    "plt.grid(True)\n",
    "\n",
    "# Save the figure\n",
    "plt.savefig(\"../output_data/City_Lat-v-Wind_Speed.png\")\n",
    "\n",
    "# Show plot\n",
    "plt.show()"
   ]
  },
  {
   "cell_type": "markdown",
   "metadata": {},
   "source": [
    "In the above plot between Latitude and Wine Speed, the wind speed seems to be within a certain range for most of the cities.  Hence, except for a few outliers, the plot suggests that the wind speed is within a range of 0 - 20 mph for most of the cities. It seems to remain within that range(constant) with change in Latitude. So, there doesn't seem to be a coorelation between wind speed and Latitude."
   ]
  },
  {
   "cell_type": "markdown",
   "metadata": {},
   "source": [
    "## Linear Regression"
   ]
  },
  {
   "cell_type": "code",
   "execution_count": 14,
   "metadata": {},
   "outputs": [],
   "source": [
    "# OPTIONAL: Create a function to create Linear Regression plots\n",
    "def lin_reg(x_values,y_values,x_label,y_label, plt_title,plt_save):\n",
    "    # Run linear regression\n",
    "    (slope, intercept, rvalue, pvalue, stderr) = linregress(x_values, y_values)\n",
    "    regress_values = x_values * slope + intercept\n",
    "    line_eq = \"y = \" + str(round(slope,2)) + \"x + \" + str(round(intercept,2))\n",
    "    \n",
    "    # Plot scatter plot\n",
    "    fig=plt.scatter(x_values,y_values)\n",
    "    \n",
    "    # Plot regression line\n",
    "    x1=min(x_values)+20\n",
    "    y1=min(y_values+20)\n",
    "    plt.plot(x_values,regress_values,\"r-\")\n",
    "    plt.annotate(line_eq,(x1,y1),fontsize=15,color=\"red\")\n",
    "    \n",
    "    # Label plot\n",
    "    plt.xlabel(x_label)\n",
    "    plt.ylabel(y_label)\n",
    "    plt.title(plt_title)\n",
    "    \n",
    "    #Saving the plot\n",
    "    plt.savefig(plt_save)\n",
    "    \n",
    "    # Print r square value\n",
    "    print(f\"The r-squared is: {rvalue**2}\")\n",
    "    \n",
    "    #Print abosule r value\n",
    "    print(f\"The absolute value of r is: {abs(rvalue)}\")    \n",
    "    \n",
    "    #Print p value\n",
    "    print(f\"The p value is: {pvalue}\")\n",
    "    \n",
    "    # Show plot\n",
    "    plt.show()\n",
    "    \n",
    "    return fig"
   ]
  },
  {
   "cell_type": "code",
   "execution_count": 15,
   "metadata": {},
   "outputs": [],
   "source": [
    "# Create Northern and Southern Hemisphere DataFrames\n",
    "Northern_hem_df=clean_city_data.loc[city_weather_df['Lat']>=0]\n",
    "Southern_hem_df=clean_city_data.loc[city_weather_df['Lat']<0]"
   ]
  },
  {
   "cell_type": "markdown",
   "metadata": {},
   "source": [
    "####  Northern Hemisphere - Max Temp vs. Latitude Linear Regression"
   ]
  },
  {
   "cell_type": "code",
   "execution_count": 16,
   "metadata": {
    "scrolled": true
   },
   "outputs": [
    {
     "name": "stdout",
     "output_type": "stream",
     "text": [
      "The r-squared is: 0.7547446291357711\n",
      "The absolute value of r is: 0.8687603980015267\n",
      "The p value is: 3.179039285096555e-123\n"
     ]
    },
    {
     "data": {
      "image/png": "[encoded data removed]",
      "text/plain": [
       "<Figure size 432x288 with 1 Axes>"
      ]
     },
     "metadata": {
      "needs_background": "light"
     },
     "output_type": "display_data"
    }
   ],
   "source": [
    "label5=f'Northern Hemisphere - Max Temp vs. Latitude {time.strftime(\"%m/%d/%Y\")}'\n",
    "map_save1=\"../output_data/Northern_City_Lat-v-Max_Temp.png\"\n",
    "fig=lin_reg(Northern_hem_df['Lat'].astype('float'), Northern_hem_df['Max Temp'].astype('float'),'Latitude', 'Max Temperature (F)', label5,map_save1)\n"
   ]
  },
  {
   "cell_type": "markdown",
   "metadata": {},
   "source": [
    "The above graph has absolute r value >= 0.7, which suggests a very strong co-relation between latitude (Northern Hemisphere) and max temp. P value being very small (p=3.179039285096555e-123) suggests that results may be statistically significant. And since the the slope is negative, we can conclude that with increase in latitude in Northern Hemisphere the temperature decreases. "
   ]
  },
  {
   "cell_type": "markdown",
   "metadata": {},
   "source": [
    "####  Southern Hemisphere - Max Temp vs. Latitude Linear Regression"
   ]
  },
  {
   "cell_type": "code",
   "execution_count": 17,
   "metadata": {},
   "outputs": [
    {
     "name": "stdout",
     "output_type": "stream",
     "text": [
      "The r-squared is: 0.5025642997086659\n",
      "The absolute value of r is: 0.7089176960047379\n",
      "The p value is: 3.5006681848680286e-28\n"
     ]
    },
    {
     "data": {
      "image/png": "[encoded data removed]",
      "text/plain": [
       "<Figure size 432x288 with 1 Axes>"
      ]
     },
     "metadata": {
      "needs_background": "light"
     },
     "output_type": "display_data"
    }
   ],
   "source": [
    "label6=f'Southern Hemisphere - Max Temp vs. Latitude {time.strftime(\"%m/%d/%Y\")}'\n",
    "map_save2=\"../output_data/Southern_City_Lat-v-Max_Temp.png\"\n",
    "fig=lin_reg(Southern_hem_df['Lat'].astype('float'), Southern_hem_df['Max Temp'].astype('float'),'Latitude', 'Max Temperature (F)', label6,map_save2)\n"
   ]
  },
  {
   "cell_type": "markdown",
   "metadata": {},
   "source": [
    "The above graph has absolute r value in the range of .5 to .7 for different subsets of cities, which suggests a moderate co-relation between latitude (Southern Hemisphere) and max temp. \n",
    "P value (3.5006681848680286e-28) being very small suggests that results may be statistically significant.\n",
    "A moderate r and a low p doesn't explain much of variation of the data but it is significant. And there are quite a few outliers far away line slope. \n",
    "Thus, since slope is negative (while traveling from Equator towards Southern Hemisphere), we can conclude that with increase in latitude towaards Southern Hemisphere , there is a chance that the temperature might decrease along the slope. "
   ]
  },
  {
   "cell_type": "markdown",
   "metadata": {},
   "source": [
    "####  Northern Hemisphere - Humidity (%) vs. Latitude Linear Regression"
   ]
  },
  {
   "cell_type": "code",
   "execution_count": 18,
   "metadata": {},
   "outputs": [
    {
     "name": "stdout",
     "output_type": "stream",
     "text": [
      "The r-squared is: 0.07997174989179925\n",
      "The absolute value of r is: 0.28279276845739754\n",
      "The p value is: 8.986762918131111e-09\n"
     ]
    },
    {
     "data": {
      "image/png": "[encoded data removed]",
      "text/plain": [
       "<Figure size 432x288 with 1 Axes>"
      ]
     },
     "metadata": {
      "needs_background": "light"
     },
     "output_type": "display_data"
    }
   ],
   "source": [
    "label7=f'Northern Hemisphere - Humidity (%) vs. Latitude {time.strftime(\"%m/%d/%Y\")}'\n",
    "map_save3=\"../output_data/Northern_City_Lat-v-Humidity.png\"\n",
    "fig=lin_reg(Northern_hem_df['Lat'].astype('float'), Northern_hem_df['Humidity'].astype('float'),'Latitude', 'Humidity (%)', label7,map_save3)\n"
   ]
  },
  {
   "cell_type": "markdown",
   "metadata": {},
   "source": [
    "The above graph has low r squared value, which suggests a very weak co-relation between latitude \n",
    "(Northern Hemisphere) and humidity. P value(8.986762918131111e-09) being very small suggests that results may be statistically significant.\n",
    "A weak r and a low p doesn't explain much of variation of the data. Besides there are a lot of outliers in the plot. \n",
    "Since the co-relation is not strong, we can conclude that with change in latitude in Northern Hemisphere , \n",
    "there is almost no chance that it will humidity change. "
   ]
  },
  {
   "cell_type": "markdown",
   "metadata": {},
   "source": [
    "####  Southern Hemisphere - Humidity (%) vs. Latitude Linear Regression"
   ]
  },
  {
   "cell_type": "code",
   "execution_count": 19,
   "metadata": {},
   "outputs": [
    {
     "name": "stdout",
     "output_type": "stream",
     "text": [
      "The r-squared is: 0.006038993104359342\n",
      "The absolute value of r is: 0.07771095871470987\n",
      "The p value is: 0.3052889204967718\n"
     ]
    },
    {
     "data": {
      "image/png": "[encoded data removed]",
      "text/plain": [
       "<Figure size 432x288 with 1 Axes>"
      ]
     },
     "metadata": {
      "needs_background": "light"
     },
     "output_type": "display_data"
    }
   ],
   "source": [
    "label8=f'Southern Hemisphere - Humidity (%) vs. Latitude {time.strftime(\"%m/%d/%Y\")}'\n",
    "map_save4=\"../output_data/Southern_City_Lat-v-Humidity.png\"\n",
    "fig=lin_reg(Southern_hem_df['Lat'].astype('float'), Southern_hem_df['Humidity'].astype('float'),'Latitude', 'Humidity (%)', label8,map_save4)\n"
   ]
  },
  {
   "cell_type": "markdown",
   "metadata": {},
   "source": [
    "The above graph has low r squared value, which suggests a very weak co-relation between latitude \n",
    "(Southern Hemisphere) and humidity. P value being small suggests that results may be statistically significant.\n",
    "A weak r and a low p doesn't explain much of variation of the data. Besides there are a lot of outliers in the plot. \n",
    "Since the co-relation is not strong, we can conclude that with change in latitude in Southern Hemisphere , \n",
    "there is almost no chance that the humidity will change. "
   ]
  },
  {
   "cell_type": "markdown",
   "metadata": {},
   "source": [
    "####  Northern Hemisphere - Cloudiness (%) vs. Latitude Linear Regression"
   ]
  },
  {
   "cell_type": "code",
   "execution_count": 20,
   "metadata": {},
   "outputs": [
    {
     "name": "stdout",
     "output_type": "stream",
     "text": [
      "The r-squared is: 0.013505434489438799\n",
      "The absolute value of r is: 0.1162128843521182\n",
      "The p value is: 0.020236161191508884\n"
     ]
    },
    {
     "data": {
      "image/png": "[encoded data removed]",
      "text/plain": [
       "<Figure size 432x288 with 1 Axes>"
      ]
     },
     "metadata": {
      "needs_background": "light"
     },
     "output_type": "display_data"
    }
   ],
   "source": [
    "label9=f'Northern Hemisphere - Cloudiness (%) vs. Latitude {time.strftime(\"%m/%d/%Y\")}'\n",
    "map_save5=\"../output_data/Northern_City_Lat-v-Cloudiness.png\"\n",
    "fig=lin_reg(Northern_hem_df['Lat'].astype('float'), Northern_hem_df['Cloudiness'].astype('float'),'Latitude', 'Cloudiness (%)', label9,map_save5)\n"
   ]
  },
  {
   "cell_type": "markdown",
   "metadata": {},
   "source": [
    "The above graph has very low r squared value, which suggests a very weak co-relation between latitude \n",
    "(Northern Hemisphere) and cloudiness. \n",
    "However, there doesn't appear to be any trend to these data points; they're just all over the place. \n",
    "There is no apparent correlation between Latitude and Cloudiness in Nothern hemisphere. "
   ]
  },
  {
   "cell_type": "markdown",
   "metadata": {},
   "source": [
    "####  Southern Hemisphere - Cloudiness (%) vs. Latitude Linear Regression"
   ]
  },
  {
   "cell_type": "code",
   "execution_count": 21,
   "metadata": {},
   "outputs": [
    {
     "name": "stdout",
     "output_type": "stream",
     "text": [
      "The r-squared is: 0.014202171265338822\n",
      "The absolute value of r is: 0.11917286295687798\n",
      "The p value is: 0.11517326275832533\n"
     ]
    },
    {
     "data": {
      "image/png": "[encoded data removed]",
      "text/plain": [
       "<Figure size 432x288 with 1 Axes>"
      ]
     },
     "metadata": {
      "needs_background": "light"
     },
     "output_type": "display_data"
    }
   ],
   "source": [
    "label10=f'Southern Hemisphere - Cloudiness (%) vs. Latitude {time.strftime(\"%m/%d/%Y\")}'\n",
    "map_save6=\"../output_data/Southern_City_Lat-v-Cloudiness.png\"\n",
    "fig=lin_reg(Southern_hem_df['Lat'].astype('float'), Southern_hem_df['Cloudiness'].astype('float'),'Latitude', 'Cloudiness (%)', label10,map_save6)\n"
   ]
  },
  {
   "cell_type": "markdown",
   "metadata": {},
   "source": [
    "The above graph has very low r squared value, which suggests a very weak co-relation between latitude \n",
    "(Southern Hemisphere) and cloudiness. \n",
    "However, there doesn't appear to be any trend to these data points; they're just all over the place. \n",
    "There is no apparent correlation between Latitude and Cloudiness in Southern hemisphere. "
   ]
  },
  {
   "cell_type": "markdown",
   "metadata": {},
   "source": [
    "####  Northern Hemisphere - Wind Speed (mph) vs. Latitude Linear Regression"
   ]
  },
  {
   "cell_type": "code",
   "execution_count": 22,
   "metadata": {},
   "outputs": [
    {
     "name": "stdout",
     "output_type": "stream",
     "text": [
      "The r-squared is: 0.009613006696846737\n",
      "The absolute value of r is: 0.09804594176633083\n",
      "The p value is: 0.05034285430441848\n"
     ]
    },
    {
     "data": {
      "image/png": "[encoded data removed]",
      "text/plain": [
       "<Figure size 432x288 with 1 Axes>"
      ]
     },
     "metadata": {
      "needs_background": "light"
     },
     "output_type": "display_data"
    }
   ],
   "source": [
    "label12=f'Northern Hemisphere - Wind Speed (mph) vs. Latitude {time.strftime(\"%m/%d/%Y\")}'\n",
    "map_save7=\"../output_data/Northern_City_Lat-v-Wind_Speed.png\"\n",
    "fig=lin_reg(Northern_hem_df['Lat'].astype('float'), Northern_hem_df['Wind Speed'].astype('float'),'Latitude', 'Wind Speed (mph)', label12,map_save7)\n"
   ]
  },
  {
   "cell_type": "markdown",
   "metadata": {},
   "source": [
    "The above graph has very low r squared value, which suggests a very weak co-relation between latitude \n",
    "(Northern Hemisphere) and wind speed. P value being small suggests that results may be statistically significant.\n",
    "However, except for some outliers, wind speed seems to within a range of 0 - 15 mph for most of the cities.\n",
    "In conclusion, the wind speed constantly remains within the range and is not impacted by change in Latitude."
   ]
  },
  {
   "cell_type": "markdown",
   "metadata": {},
   "source": [
    "####  Southern Hemisphere - Wind Speed (mph) vs. Latitude Linear Regression"
   ]
  },
  {
   "cell_type": "code",
   "execution_count": 23,
   "metadata": {},
   "outputs": [
    {
     "name": "stdout",
     "output_type": "stream",
     "text": [
      "The r-squared is: 0.1171866555527839\n",
      "The absolute value of r is: 0.3423253650444032\n",
      "The p value is: 3.313237880179788e-06\n"
     ]
    },
    {
     "data": {
      "image/png": "[encoded data removed]",
      "text/plain": [
       "<Figure size 432x288 with 1 Axes>"
      ]
     },
     "metadata": {
      "needs_background": "light"
     },
     "output_type": "display_data"
    }
   ],
   "source": [
    "label13=f'Southern Hemisphere - Wind Speed (mph) vs. Latitude {time.strftime(\"%m/%d/%Y\")}'\n",
    "map_save8=\"../output_data/Southern_City_Lat-v-Wind_Speed.png\"\n",
    "fig=lin_reg(Southern_hem_df['Lat'].astype('float'), Southern_hem_df['Wind Speed'].astype('float'),'Latitude', 'Wind Speed (mph)', label13,map_save8)\n"
   ]
  },
  {
   "cell_type": "markdown",
   "metadata": {},
   "source": [
    "The above graph has very low r squared value, which suggests a very weak co-relation between latitude \n",
    "(Southern Hemisphere) and wind speed. \n",
    "However, except for some outliers, wind speed seems to within a range of 0 - 15 mph for most of the cities.\n",
    "In conclusion, the wind speed constantly remains within the range and is not impacted by change in Latitude."
   ]
  },
  {
   "cell_type": "code",
   "execution_count": null,
   "metadata": {},
   "outputs": [],
   "source": []
  }
 ],
 "metadata": {
  "anaconda-cloud": {},
  "kernel_info": {
   "name": "python3"
  },
  "kernelspec": {
   "display_name": "Python 3",
   "language": "python",
   "name": "python3"
  },
  "language_info": {
   "codemirror_mode": {
    "name": "ipython",
    "version": 3
   },
   "file_extension": ".py",
   "mimetype": "text/x-python",
   "name": "python",
   "nbconvert_exporter": "python",
   "pygments_lexer": "ipython3",
   "version": "3.6.10"
  },
  "latex_envs": {
   "LaTeX_envs_menu_present": true,
   "autoclose": false,
   "autocomplete": true,
   "bibliofile": "biblio.bib",
   "cite_by": "apalike",
   "current_citInitial": 1,
   "eqLabelWithNumbers": true,
   "eqNumInitial": 1,
   "hotkeys": {
    "equation": "Ctrl-E",
    "itemize": "Ctrl-I"
   },
   "labels_anchors": false,
   "latex_user_defs": false,
   "report_style_numbering": false,
   "user_envs_cfg": false
  },
  "nteract": {
   "version": "0.12.3"
  }
 },
 "nbformat": 4,
 "nbformat_minor": 2
}
